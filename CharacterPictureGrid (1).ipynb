{
 "cells": [
  {
   "cell_type": "code",
   "execution_count": 4,
   "id": "1daa65ca-6ac3-43ca-9922-6b40e9a2b79d",
   "metadata": {},
   "outputs": [
    {
     "name": "stdout",
     "output_type": "stream",
     "text": [
      "Name:Deepika\n",
      "USN: 1AY24AI080\n",
      "Section: 0\n"
     ]
    },
    {
     "name": "stdin",
     "output_type": "stream",
     "text": [
      "Enter the size of the grid (for example, enter 6 for a 6x6 grid):  5\n"
     ]
    },
    {
     "name": "stdout",
     "output_type": "stream",
     "text": [
      "* * * * * \n",
      "* * * * * \n",
      "* * * * * \n",
      "* * * * * \n",
      "* * * * * \n"
     ]
    }
   ],
   "source": [
    "print(\"Name:Deepika\")\n",
    "print(\"USN: 1AY24AI080\")\n",
    "print(\"Section: 0\")\n",
    "\n",
    "try:\n",
    "    grid_size = int(input(\"Enter the size of the grid (for example, enter 6 for a 6x6 grid): \"))\n",
    "    for i in range(grid_size):\n",
    "        for j in range(grid_size):\n",
    "            print(\"*\", end=\" \")\n",
    "        print()\n",
    "except ValueError:\n",
    "    print(\"Invalid input! Please enter only a single number like 6, not 6*6.\")"
   ]
  },
  {
   "cell_type": "code",
   "execution_count": null,
   "id": "efe172d4-a1ef-4eb1-93a7-acb3a2f34f97",
   "metadata": {},
   "outputs": [],
   "source": []
  }
 ],
 "metadata": {
  "kernelspec": {
   "display_name": "Python 3 (ipykernel)",
   "language": "python",
   "name": "python3"
  },
  "language_info": {
   "codemirror_mode": {
    "name": "ipython",
    "version": 3
   },
   "file_extension": ".py",
   "mimetype": "text/x-python",
   "name": "python",
   "nbconvert_exporter": "python",
   "pygments_lexer": "ipython3",
   "version": "3.12.7"
  }
 },
 "nbformat": 4,
 "nbformat_minor": 5
}
