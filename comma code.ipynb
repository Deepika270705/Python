{
 "cells": [
  {
   "cell_type": "code",
   "execution_count": 1,
   "id": "afa08556-19b7-414d-915c-031b3099f23d",
   "metadata": {},
   "outputs": [
    {
     "name": "stdout",
     "output_type": "stream",
     "text": [
      "Name: Deepika\n",
      "USN: 1AY24AI080\n",
      "Section: O\n",
      "apples, bananas, tofu, and cats\n"
     ]
    }
   ],
   "source": [
    "print(\"Name: Deepika\")\n",
    "print(\"USN: 1AY24AI080\")\n",
    "print(\"Section: O\")\n",
    "items = ['apples', 'bananas', 'tofu', 'cats']\n",
    "result = ''\n",
    "\n",
    "for i in range(len(items)):\n",
    "    if i == len(items) - 1 and len(items) > 1:\n",
    "        result += 'and ' + items[i]\n",
    "    elif i == len(items) - 1:\n",
    "        result += items[i]\n",
    "    else:\n",
    "        result += items[i] + ', '\n",
    "\n",
    "print(result)"
   ]
  },
  {
   "cell_type": "code",
   "execution_count": null,
   "id": "8fa40581-5218-4fb1-955d-c86c77604228",
   "metadata": {},
   "outputs": [],
   "source": []
  }
 ],
 "metadata": {
  "kernelspec": {
   "display_name": "Python 3 (ipykernel)",
   "language": "python",
   "name": "python3"
  },
  "language_info": {
   "codemirror_mode": {
    "name": "ipython",
    "version": 3
   },
   "file_extension": ".py",
   "mimetype": "text/x-python",
   "name": "python",
   "nbconvert_exporter": "python",
   "pygments_lexer": "ipython3",
   "version": "3.12.7"
  }
 },
 "nbformat": 4,
 "nbformat_minor": 5
}
