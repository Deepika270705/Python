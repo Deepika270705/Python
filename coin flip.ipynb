{
 "cells": [
  {
   "cell_type": "code",
   "execution_count": 1,
   "id": "5e57b9ed-e6dd-4468-8947-74d6e8142103",
   "metadata": {},
   "outputs": [
    {
     "name": "stdout",
     "output_type": "stream",
     "text": [
      "Name: Deepika\n",
      "USN: 1AY24AI080\n",
      "Section: O\n"
     ]
    },
    {
     "name": "stdin",
     "output_type": "stream",
     "text": [
      "Enter the number of coin flips:  3\n"
     ]
    },
    {
     "name": "stdout",
     "output_type": "stream",
     "text": [
      "Results: ['H', 'T', 'H']\n",
      "Longest streak: 1\n"
     ]
    }
   ],
   "source": [
    "print(\"Name: Deepika\")\n",
    "print(\"USN: 1AY24AI080\")\n",
    "print(\"Section: O\")\n",
    "import random\n",
    "flips = int(input(\"Enter the number of coin flips: \"))\n",
    "results = []\n",
    "streak = 0\n",
    "max_streak = 0\n",
    "for _ in range(flips):\n",
    "    flip = random.choice(['H', 'T'])\n",
    "    results.append(flip)\n",
    "    if len(results) > 1 and results[-1] == results[-2]:\n",
    "        streak += 1\n",
    "    else:\n",
    "        streak = 1\n",
    "    if streak > max_streak:\n",
    "        max_streak = streak\n",
    "print(\"Results:\", results)\n",
    "print(\"Longest streak:\", max_streak)"
   ]
  },
  {
   "cell_type": "code",
   "execution_count": null,
   "id": "4d294f3d-d9d0-410f-b2d7-4a9e20f7a4bd",
   "metadata": {},
   "outputs": [],
   "source": []
  }
 ],
 "metadata": {
  "kernelspec": {
   "display_name": "Python 3 (ipykernel)",
   "language": "python",
   "name": "python3"
  },
  "language_info": {
   "codemirror_mode": {
    "name": "ipython",
    "version": 3
   },
   "file_extension": ".py",
   "mimetype": "text/x-python",
   "name": "python",
   "nbconvert_exporter": "python",
   "pygments_lexer": "ipython3",
   "version": "3.12.7"
  }
 },
 "nbformat": 4,
 "nbformat_minor": 5
}
