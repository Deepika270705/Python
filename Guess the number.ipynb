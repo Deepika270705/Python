{
 "cells": [
  {
   "cell_type": "code",
   "execution_count": null,
   "id": "3e18fa53-e6e9-4391-9507-9aaec8ee0134",
   "metadata": {},
   "outputs": [
    {
     "name": "stdout",
     "output_type": "stream",
     "text": [
      "Name: Deepika\n",
      "USN: 1AY24AI080\n",
      "Section: O\n",
      "Welcome to the Guess the Number Game!\n",
      "I have selected a number between 1 and 100. Can you guess it?\n"
     ]
    },
    {
     "name": "stdin",
     "output_type": "stream",
     "text": [
      "Enter your guess:  99\n"
     ]
    },
    {
     "name": "stdout",
     "output_type": "stream",
     "text": [
      "Too high! Try again.\n"
     ]
    },
    {
     "name": "stdin",
     "output_type": "stream",
     "text": [
      "Enter your guess:  78\n"
     ]
    },
    {
     "name": "stdout",
     "output_type": "stream",
     "text": [
      "Too high! Try again.\n"
     ]
    }
   ],
   "source": [
    "import random\n",
    "\n",
    "def guess_the_number():\n",
    "    print(\"Name: Deepika\")\n",
    "    print(\"USN: 1AY24AI080\")\n",
    "    print(\"Section: 0\")\n",
    "\n",
    "    number_to_guess = random.randint(1, 100)\n",
    "    attempts = 0\n",
    "    guess = 0\n",
    "\n",
    "    print(\"Welcome to the Guess the Number Game!\")\n",
    "    print(\"I have selected a number between 1 and 100. Can you guess it?\")\n",
    "\n",
    "    while guess != number_to_guess:\n",
    "        try:\n",
    "            guess = int(input(\"Enter your guess: \"))\n",
    "            attempts += 1\n",
    "\n",
    "            if guess < number_to_guess:\n",
    "                print(\"Too low! Try again.\")\n",
    "            elif guess > number_to_guess:\n",
    "                print(\"Too high! Try again.\")\n",
    "            else:\n",
    "                print(f\"Congratulations! You've guessed the number {number_to_guess} in {attempts} attempts.\")\n",
    "                break \n",
    "        except ValueError:\n",
    "            print(\"Please enter a valid integer.\")\n",
    "\n",
    "guess_the_number()"
   ]
  },
  {
   "cell_type": "code",
   "execution_count": null,
   "id": "86211249-821a-4061-baee-bee569649cf1",
   "metadata": {},
   "outputs": [],
   "source": []
  }
 ],
 "metadata": {
  "kernelspec": {
   "display_name": "Python 3 (ipykernel)",
   "language": "python",
   "name": "python3"
  },
  "language_info": {
   "codemirror_mode": {
    "name": "ipython",
    "version": 3
   },
   "file_extension": ".py",
   "mimetype": "text/x-python",
   "name": "python",
   "nbconvert_exporter": "python",
   "pygments_lexer": "ipython3",
   "version": "3.12.7"
  }
 },
 "nbformat": 4,
 "nbformat_minor": 5
}
