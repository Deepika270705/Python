{
 "cells": [
  {
   "cell_type": "code",
   "execution_count": null,
   "id": "5dbab915-feda-47b5-bacb-8b92c733225f",
   "metadata": {},
   "outputs": [],
   "source": [
    "print(\"Name: Deepika\")\n",
    "print(\"USN: 1AY24AI080\")\n",
    "print(\"Section: O\")\n",
    "inventory = {}\n",
    "while True:\n",
    "    action = input(\"Would you like to 'add', 'remove', or 'view' items? (type 'exit' to quit): \").lower()\n",
    "    if action == 'add':\n",
    "        item = input(\"Enter the item you want to add: \")\n",
    "        quantity = int(input(\"Enter the quantity: \"))\n",
    "        if item in inventory:\n",
    "            inventory[item] += quantity\n",
    "        else:\n",
    "            inventory[item] = quantity\n",
    "        print(f\"{quantity} {item}(s) added to your inventory.\")\n",
    "    elif action == 'remove':\n",
    "        item = input(\"Enter the item you want to remove: \")\n",
    "        if item in inventory:\n",
    "            quantity = int(input(\"Enter the quantity: \"))\n",
    "            if quantity >= inventory[item]:\n",
    "                del inventory[item]\n",
    "                print(f\"{item} removed from your inventory.\")\n",
    "            else:\n",
    "                inventory[item] -= quantity\n",
    "                print(f\"{quantity} {item}(s) removed from your inventory.\")\n",
    "        else:\n",
    "            print(f\"{item} is not in your inventory.\")\n",
    "    elif action == 'view':\n",
    "        if inventory:\n",
    "            print(\"Your inventory:\")\n",
    "            for item, quantity in inventory.items():\n",
    "                print(f\"{item}: {quantity}\")\n",
    "        else:\n",
    "            print(\"Your inventory is empty.\")\n",
    "    elif action == 'exit':\n",
    "        break\n",
    "    else:\n",
    "        print(\"Invalid action. Please try again.\")"
   ]
  }
 ],
 "metadata": {
  "kernelspec": {
   "display_name": "Python 3 (ipykernel)",
   "language": "python",
   "name": "python3"
  },
  "language_info": {
   "codemirror_mode": {
    "name": "ipython",
    "version": 3
   },
   "file_extension": ".py",
   "mimetype": "text/x-python",
   "name": "python",
   "nbconvert_exporter": "python",
   "pygments_lexer": "ipython3",
   "version": "3.12.7"
  }
 },
 "nbformat": 4,
 "nbformat_minor": 5
}
