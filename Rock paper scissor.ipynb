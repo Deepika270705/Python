{
 "cells": [
  {
   "cell_type": "code",
   "execution_count": null,
   "id": "fd0c453c-1631-4994-a191-56502004dfdf",
   "metadata": {},
   "outputs": [
    {
     "name": "stdout",
     "output_type": "stream",
     "text": [
      "Name: Deepika\n",
      "USN: 1AY24AI080\n",
      "Section: O\n"
     ]
    },
    {
     "name": "stdin",
     "output_type": "stream",
     "text": [
      "Enter rock, paper, or scissors (or 'quit' to stop):  Rock\n"
     ]
    },
    {
     "name": "stdout",
     "output_type": "stream",
     "text": [
      "Computer chose: scissors\n",
      "You win!\n",
      "Score - You: 1, Computer: 0\n"
     ]
    }
   ],
   "source": [
    "print(\"Name: Deepika\")\n",
    "print(\"USN: 1AY24AI080\")\n",
    "print(\"Section: O\")\n",
    "import random\n",
    "\n",
    "options = [\"rock\", \"paper\", \"scissors\"]\n",
    "user_score = 0\n",
    "computer_score = 0\n",
    "\n",
    "while True:\n",
    "    user_choice = input(\"Enter rock, paper, or scissors (or 'quit' to stop): \").lower()\n",
    "    if user_choice == 'quit':\n",
    "        break\n",
    "    if user_choice not in options:\n",
    "        print(\"Invalid choice, please try again.\")\n",
    "        continue\n",
    "\n",
    "    computer_choice = random.choice(options)\n",
    "    print(f\"Computer chose: {computer_choice}\")\n",
    "\n",
    "    if user_choice == computer_choice:\n",
    "        print(\"It's a tie!\")\n",
    "    elif (user_choice == \"rock\" and computer_choice == \"scissors\") or \\\n",
    "         (user_choice == \"paper\" and computer_choice == \"rock\") or \\\n",
    "         (user_choice == \"scissors\" and computer_choice == \"paper\"):\n",
    "        print(\"You win!\")\n",
    "        user_score += 1\n",
    "    else:\n",
    "        print(\"You lose!\")\n",
    "        computer_score += 1\n",
    "\n",
    "    print(f\"Score - You: {user_score}, Computer: {computer_score}\")\n",
    "\n",
    "print(\"Game Over!\")\n",
    "print(f\"Final Score - You: {user_score}, Computer: {computer_score}\")"
   ]
  },
  {
   "cell_type": "code",
   "execution_count": null,
   "id": "e4d152e6-d498-47d0-8e4c-147720894032",
   "metadata": {},
   "outputs": [],
   "source": []
  }
 ],
 "metadata": {
  "kernelspec": {
   "display_name": "Python 3 (ipykernel)",
   "language": "python",
   "name": "python3"
  },
  "language_info": {
   "codemirror_mode": {
    "name": "ipython",
    "version": 3
   },
   "file_extension": ".py",
   "mimetype": "text/x-python",
   "name": "python",
   "nbconvert_exporter": "python",
   "pygments_lexer": "ipython3",
   "version": "3.12.7"
  }
 },
 "nbformat": 4,
 "nbformat_minor": 5
}
